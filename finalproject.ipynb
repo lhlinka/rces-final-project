{
 "cells": [
  {
   "cell_type": "markdown",
   "metadata": {},
   "source": [
    "Import pandas, numpy, matplotlib, IPython, figure display settings."
   ]
  },
  {
   "cell_type": "code",
   "execution_count": 2,
   "metadata": {},
   "outputs": [],
   "source": [
    "import pandas as pd\n",
    "import numpy as np\n",
    "from matplotlib import pyplot as plt\n",
    "from IPython import display\n",
    "display.set_matplotlib_formats('retina')\n",
    "%matplotlib inline"
   ]
  },
  {
   "cell_type": "markdown",
   "metadata": {},
   "source": [
    "Load the .csv file of published geochemical data for the Columbia River Basalt Group using pandas."
   ]
  },
  {
   "cell_type": "code",
   "execution_count": 7,
   "metadata": {},
   "outputs": [
    {
     "name": "stderr",
     "output_type": "stream",
     "text": [
      "/srv/conda/envs/notebook/lib/python3.7/site-packages/IPython/core/interactiveshell.py:3146: DtypeWarning: Columns (0,3,13,18,22,26,28,30,31,33,93,94) have mixed types.Specify dtype option on import or set low_memory=False.\n",
      "  interactivity=interactivity, compiler=compiler, result=result)\n"
     ]
    },
    {
     "data": {
      "text/html": [
       "<div>\n",
       "<style scoped>\n",
       "    .dataframe tbody tr th:only-of-type {\n",
       "        vertical-align: middle;\n",
       "    }\n",
       "\n",
       "    .dataframe tbody tr th {\n",
       "        vertical-align: top;\n",
       "    }\n",
       "\n",
       "    .dataframe thead th {\n",
       "        text-align: right;\n",
       "    }\n",
       "</style>\n",
       "<table border=\"1\" class=\"dataframe\">\n",
       "  <thead>\n",
       "    <tr style=\"text-align: right;\">\n",
       "      <th></th>\n",
       "      <th>Year</th>\n",
       "      <th>CITATION</th>\n",
       "      <th>SAMPLE NAME</th>\n",
       "      <th>UNIQUE_ID</th>\n",
       "      <th>LOCATION</th>\n",
       "      <th>ELEVATION (MIN.)</th>\n",
       "      <th>ELEVATION (MAX.)</th>\n",
       "      <th>SAMPLING TECHNIQUE</th>\n",
       "      <th>DRILLING DEPTH (MIN.)</th>\n",
       "      <th>DRILLING DEPTH (MAX.)</th>\n",
       "      <th>...</th>\n",
       "      <th>ENSTATITE(MOL%)</th>\n",
       "      <th>FAYALITE(MOL%)</th>\n",
       "      <th>FORSTERITE(MOL%)</th>\n",
       "      <th>FERROSILITE(MOL%)</th>\n",
       "      <th>ORTHOCLASE(MOL%)</th>\n",
       "      <th>TEPHROITE(MOL%)</th>\n",
       "      <th>ULVOSPINEL(MOL%)</th>\n",
       "      <th>WOLLASTONITE(MOL%)</th>\n",
       "      <th>AGE(MA)</th>\n",
       "      <th>AGE_PB206_U238(MA)</th>\n",
       "    </tr>\n",
       "  </thead>\n",
       "  <tbody>\n",
       "    <tr>\n",
       "      <th>0</th>\n",
       "      <td>1966</td>\n",
       "      <td>[1594] CROCKET J. H. (1966)</td>\n",
       "      <td>samp. B-5-D</td>\n",
       "      <td>NaN</td>\n",
       "      <td>YELLOWSTONE-SNAKE RIVER PLAIN VOLCANIC PROVINC...</td>\n",
       "      <td>NaN</td>\n",
       "      <td>NaN</td>\n",
       "      <td>OUTCROP</td>\n",
       "      <td>NaN</td>\n",
       "      <td>NaN</td>\n",
       "      <td>...</td>\n",
       "      <td>NaN</td>\n",
       "      <td>NaN</td>\n",
       "      <td>NaN</td>\n",
       "      <td>NaN</td>\n",
       "      <td>NaN</td>\n",
       "      <td>NaN</td>\n",
       "      <td>NaN</td>\n",
       "      <td>NaN</td>\n",
       "      <td>NaN</td>\n",
       "      <td>NaN</td>\n",
       "    </tr>\n",
       "    <tr>\n",
       "      <th>1</th>\n",
       "      <td>1973</td>\n",
       "      <td>[1726] WALKER G. W. (1973)</td>\n",
       "      <td>samp. GWW-1-7</td>\n",
       "      <td>NaN</td>\n",
       "      <td>YELLOWSTONE-SNAKE RIVER PLAIN VOLCANIC PROVINC...</td>\n",
       "      <td>NaN</td>\n",
       "      <td>NaN</td>\n",
       "      <td>OUTCROP</td>\n",
       "      <td>NaN</td>\n",
       "      <td>NaN</td>\n",
       "      <td>...</td>\n",
       "      <td>NaN</td>\n",
       "      <td>NaN</td>\n",
       "      <td>NaN</td>\n",
       "      <td>NaN</td>\n",
       "      <td>NaN</td>\n",
       "      <td>NaN</td>\n",
       "      <td>NaN</td>\n",
       "      <td>NaN</td>\n",
       "      <td>NaN</td>\n",
       "      <td>NaN</td>\n",
       "    </tr>\n",
       "    <tr>\n",
       "      <th>2</th>\n",
       "      <td>1973</td>\n",
       "      <td>[1726] WALKER G. W. (1973)</td>\n",
       "      <td>samp. GWW-3-71</td>\n",
       "      <td>NaN</td>\n",
       "      <td>YELLOWSTONE-SNAKE RIVER PLAIN VOLCANIC PROVINC...</td>\n",
       "      <td>NaN</td>\n",
       "      <td>NaN</td>\n",
       "      <td>OUTCROP</td>\n",
       "      <td>NaN</td>\n",
       "      <td>NaN</td>\n",
       "      <td>...</td>\n",
       "      <td>NaN</td>\n",
       "      <td>NaN</td>\n",
       "      <td>NaN</td>\n",
       "      <td>NaN</td>\n",
       "      <td>NaN</td>\n",
       "      <td>NaN</td>\n",
       "      <td>NaN</td>\n",
       "      <td>NaN</td>\n",
       "      <td>NaN</td>\n",
       "      <td>NaN</td>\n",
       "    </tr>\n",
       "    <tr>\n",
       "      <th>3</th>\n",
       "      <td>1973</td>\n",
       "      <td>[1726] WALKER G. W. (1973)</td>\n",
       "      <td>samp. EL-2-71</td>\n",
       "      <td>NaN</td>\n",
       "      <td>YELLOWSTONE-SNAKE RIVER PLAIN VOLCANIC PROVINC...</td>\n",
       "      <td>NaN</td>\n",
       "      <td>NaN</td>\n",
       "      <td>OUTCROP</td>\n",
       "      <td>NaN</td>\n",
       "      <td>NaN</td>\n",
       "      <td>...</td>\n",
       "      <td>NaN</td>\n",
       "      <td>NaN</td>\n",
       "      <td>NaN</td>\n",
       "      <td>NaN</td>\n",
       "      <td>NaN</td>\n",
       "      <td>NaN</td>\n",
       "      <td>NaN</td>\n",
       "      <td>NaN</td>\n",
       "      <td>NaN</td>\n",
       "      <td>NaN</td>\n",
       "    </tr>\n",
       "    <tr>\n",
       "      <th>4</th>\n",
       "      <td>1970</td>\n",
       "      <td>[1728] OSAWA M. (1970)</td>\n",
       "      <td>samp. PG-1</td>\n",
       "      <td>11271-PG-1</td>\n",
       "      <td>YELLOWSTONE-SNAKE RIVER PLAIN VOLCANIC PROVINC...</td>\n",
       "      <td>NaN</td>\n",
       "      <td>NaN</td>\n",
       "      <td>OUTCROP</td>\n",
       "      <td>NaN</td>\n",
       "      <td>NaN</td>\n",
       "      <td>...</td>\n",
       "      <td>NaN</td>\n",
       "      <td>NaN</td>\n",
       "      <td>NaN</td>\n",
       "      <td>NaN</td>\n",
       "      <td>NaN</td>\n",
       "      <td>NaN</td>\n",
       "      <td>NaN</td>\n",
       "      <td>NaN</td>\n",
       "      <td>NaN</td>\n",
       "      <td>NaN</td>\n",
       "    </tr>\n",
       "  </tbody>\n",
       "</table>\n",
       "<p>5 rows × 160 columns</p>\n",
       "</div>"
      ],
      "text/plain": [
       "   Year                     CITATION     SAMPLE NAME   UNIQUE_ID  \\\n",
       "0  1966  [1594] CROCKET J. H. (1966)     samp. B-5-D         NaN   \n",
       "1  1973   [1726] WALKER G. W. (1973)   samp. GWW-1-7         NaN   \n",
       "2  1973   [1726] WALKER G. W. (1973)  samp. GWW-3-71         NaN   \n",
       "3  1973   [1726] WALKER G. W. (1973)   samp. EL-2-71         NaN   \n",
       "4  1970       [1728] OSAWA M. (1970)      samp. PG-1  11271-PG-1   \n",
       "\n",
       "                                            LOCATION  ELEVATION (MIN.)  \\\n",
       "0  YELLOWSTONE-SNAKE RIVER PLAIN VOLCANIC PROVINC...               NaN   \n",
       "1  YELLOWSTONE-SNAKE RIVER PLAIN VOLCANIC PROVINC...               NaN   \n",
       "2  YELLOWSTONE-SNAKE RIVER PLAIN VOLCANIC PROVINC...               NaN   \n",
       "3  YELLOWSTONE-SNAKE RIVER PLAIN VOLCANIC PROVINC...               NaN   \n",
       "4  YELLOWSTONE-SNAKE RIVER PLAIN VOLCANIC PROVINC...               NaN   \n",
       "\n",
       "   ELEVATION (MAX.) SAMPLING TECHNIQUE  DRILLING DEPTH (MIN.)  \\\n",
       "0               NaN            OUTCROP                    NaN   \n",
       "1               NaN            OUTCROP                    NaN   \n",
       "2               NaN            OUTCROP                    NaN   \n",
       "3               NaN            OUTCROP                    NaN   \n",
       "4               NaN            OUTCROP                    NaN   \n",
       "\n",
       "   DRILLING DEPTH (MAX.)  ... ENSTATITE(MOL%) FAYALITE(MOL%) FORSTERITE(MOL%)  \\\n",
       "0                    NaN  ...             NaN            NaN              NaN   \n",
       "1                    NaN  ...             NaN            NaN              NaN   \n",
       "2                    NaN  ...             NaN            NaN              NaN   \n",
       "3                    NaN  ...             NaN            NaN              NaN   \n",
       "4                    NaN  ...             NaN            NaN              NaN   \n",
       "\n",
       "  FERROSILITE(MOL%) ORTHOCLASE(MOL%)  TEPHROITE(MOL%)  ULVOSPINEL(MOL%)  \\\n",
       "0               NaN              NaN              NaN               NaN   \n",
       "1               NaN              NaN              NaN               NaN   \n",
       "2               NaN              NaN              NaN               NaN   \n",
       "3               NaN              NaN              NaN               NaN   \n",
       "4               NaN              NaN              NaN               NaN   \n",
       "\n",
       "  WOLLASTONITE(MOL%) AGE(MA)  AGE_PB206_U238(MA)  \n",
       "0                NaN     NaN                 NaN  \n",
       "1                NaN     NaN                 NaN  \n",
       "2                NaN     NaN                 NaN  \n",
       "3                NaN     NaN                 NaN  \n",
       "4                NaN     NaN                 NaN  \n",
       "\n",
       "[5 rows x 160 columns]"
      ]
     },
     "execution_count": 7,
     "metadata": {},
     "output_type": "execute_result"
    }
   ],
   "source": [
    "df = pd.read_csv('GEOROC_Compilation_ColumbiaRiverPlateau_11_13_20.csv')\n",
    "df.head()"
   ]
  },
  {
   "cell_type": "markdown",
   "metadata": {},
   "source": [
    "Clean up the data file for any missing values."
   ]
  },
  {
   "cell_type": "code",
   "execution_count": null,
   "metadata": {},
   "outputs": [],
   "source": []
  },
  {
   "cell_type": "markdown",
   "metadata": {},
   "source": [
    "Address any inconsistent reporting of data (i.e. reporting FeO vs Fe2O3, all data will be converted to FeO*), then normalize major element data to 100%."
   ]
  },
  {
   "cell_type": "code",
   "execution_count": null,
   "metadata": {},
   "outputs": [],
   "source": []
  },
  {
   "cell_type": "markdown",
   "metadata": {},
   "source": [
    "Chondrite normalize trace element data."
   ]
  },
  {
   "cell_type": "code",
   "execution_count": null,
   "metadata": {},
   "outputs": [],
   "source": []
  },
  {
   "cell_type": "markdown",
   "metadata": {},
   "source": [
    "Use the groupby function to sort the data based on stratographic units."
   ]
  },
  {
   "cell_type": "code",
   "execution_count": null,
   "metadata": {},
   "outputs": [],
   "source": []
  },
  {
   "cell_type": "code",
   "execution_count": null,
   "metadata": {},
   "outputs": [],
   "source": []
  },
  {
   "cell_type": "markdown",
   "metadata": {},
   "source": [
    "Create a map illustrating the geographical location of data points, colorcode by stratographic unit."
   ]
  },
  {
   "cell_type": "code",
   "execution_count": null,
   "metadata": {},
   "outputs": [],
   "source": []
  },
  {
   "cell_type": "markdown",
   "metadata": {},
   "source": [
    "To analyze the evolution of geochemistry over the emplacement of the Columbia River Basalt Group, plot Total Alkali-Silica (TAS) diagram and REE spider diagram grouped by stratographic unit, and plot REE spider diagram group."
   ]
  },
  {
   "cell_type": "markdown",
   "metadata": {},
   "source": []
  },
  {
   "cell_type": "code",
   "execution_count": null,
   "metadata": {},
   "outputs": [],
   "source": []
  },
  {
   "cell_type": "markdown",
   "metadata": {},
   "source": [
    "Calculate and plot Europium (Eu*) anomaly grouped by stratographic unit."
   ]
  },
  {
   "cell_type": "code",
   "execution_count": null,
   "metadata": {},
   "outputs": [],
   "source": []
  },
  {
   "cell_type": "markdown",
   "metadata": {},
   "source": [
    "Calculate and plot Dysprosium (Dy) anomaly grouped by stratographic unit."
   ]
  },
  {
   "cell_type": "code",
   "execution_count": null,
   "metadata": {},
   "outputs": [],
   "source": []
  },
  {
   "cell_type": "markdown",
   "metadata": {},
   "source": [
    "To analyze the inferred volatile content over the emplacement of the Columbia River Basalt Group, create a multi-panel plot using trace elements as proxies: Ce for H2O, Nb for CO2, Dy for S."
   ]
  },
  {
   "cell_type": "code",
   "execution_count": null,
   "metadata": {},
   "outputs": [],
   "source": []
  },
  {
   "cell_type": "code",
   "execution_count": null,
   "metadata": {},
   "outputs": [],
   "source": []
  }
 ],
 "metadata": {
  "kernelspec": {
   "display_name": "Python 3",
   "language": "python",
   "name": "python3"
  },
  "language_info": {
   "codemirror_mode": {
    "name": "ipython",
    "version": 3
   },
   "file_extension": ".py",
   "mimetype": "text/x-python",
   "name": "python",
   "nbconvert_exporter": "python",
   "pygments_lexer": "ipython3",
   "version": "3.7.8"
  }
 },
 "nbformat": 4,
 "nbformat_minor": 4
}
